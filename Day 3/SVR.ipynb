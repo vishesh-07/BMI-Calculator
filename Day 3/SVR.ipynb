{
  "nbformat": 4,
  "nbformat_minor": 0,
  "metadata": {
    "colab": {
      "name": "SVR.ipynb",
      "provenance": [],
      "authorship_tag": "ABX9TyNOzaEnIk/v9rM5mkjuGnRQ",
      "include_colab_link": true
    },
    "kernelspec": {
      "name": "python3",
      "display_name": "Python 3"
    },
    "language_info": {
      "name": "python"
    }
  },
  "cells": [
    {
      "cell_type": "markdown",
      "metadata": {
        "id": "view-in-github",
        "colab_type": "text"
      },
      "source": [
        "<a href=\"https://colab.research.google.com/github/vishesh-07/BMI-Calculator/blob/master/Day%203/SVR.ipynb\" target=\"_parent\"><img src=\"https://colab.research.google.com/assets/colab-badge.svg\" alt=\"Open In Colab\"/></a>"
      ]
    },
    {
      "cell_type": "code",
      "execution_count": 1,
      "metadata": {
        "id": "TahmNG4d4QVg"
      },
      "outputs": [],
      "source": [
        "import numpy as np\n",
        "import matplotlib.pyplot as plt\n",
        "import pandas as pd"
      ]
    },
    {
      "cell_type": "code",
      "source": [
        "from google.colab import files \n",
        "uploaded=files.upload()"
      ],
      "metadata": {
        "colab": {
          "resources": {
            "http://localhost:8080/nbextensions/google.colab/files.js": {
              "data": "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",
              "ok": true,
              "headers": [
                [
                  "content-type",
                  "application/javascript"
                ]
              ],
              "status": 200,
              "status_text": ""
            }
          },
          "base_uri": "https://localhost:8080/",
          "height": 74
        },
        "id": "n07QfyrR4SZ_",
        "outputId": "d2afc5a3-e1cb-43a3-c6fc-c354b6b6c659"
      },
      "execution_count": 2,
      "outputs": [
        {
          "output_type": "display_data",
          "data": {
            "text/plain": [
              "<IPython.core.display.HTML object>"
            ],
            "text/html": [
              "\n",
              "     <input type=\"file\" id=\"files-0dc88699-78df-457b-84df-e45982a3aecb\" name=\"files[]\" multiple disabled\n",
              "        style=\"border:none\" />\n",
              "     <output id=\"result-0dc88699-78df-457b-84df-e45982a3aecb\">\n",
              "      Upload widget is only available when the cell has been executed in the\n",
              "      current browser session. Please rerun this cell to enable.\n",
              "      </output>\n",
              "      <script src=\"/nbextensions/google.colab/files.js\"></script> "
            ]
          },
          "metadata": {}
        },
        {
          "output_type": "stream",
          "name": "stdout",
          "text": [
            "Saving apartment_prices.csv to apartment_prices.csv\n"
          ]
        }
      ]
    },
    {
      "cell_type": "code",
      "source": [
        "dataset = pd.read_csv('apartment_prices.csv')\n",
        "X = dataset.iloc[:, :-1].values\n",
        "y = dataset.iloc[:, -1].values"
      ],
      "metadata": {
        "id": "TjtzPzZV4UYH"
      },
      "execution_count": 3,
      "outputs": []
    },
    {
      "cell_type": "code",
      "source": [
        "y = y.reshape(len(y),1)"
      ],
      "metadata": {
        "id": "55lRE8Ip4tOx"
      },
      "execution_count": 6,
      "outputs": []
    },
    {
      "cell_type": "code",
      "source": [
        "from sklearn.preprocessing import StandardScaler\n",
        "sc_X = StandardScaler()\n",
        "sc_y = StandardScaler()\n",
        "X = sc_X.fit_transform(X)\n",
        "y = sc_y.fit_transform(y)"
      ],
      "metadata": {
        "id": "OrVh3h4g4xoS"
      },
      "execution_count": 7,
      "outputs": []
    },
    {
      "cell_type": "code",
      "source": [
        "from sklearn.svm import SVR\n",
        "regressor = SVR(kernel = 'rbf')\n",
        "regressor.fit(X, y)"
      ],
      "metadata": {
        "colab": {
          "base_uri": "https://localhost:8080/"
        },
        "id": "fVewLYtV4eBi",
        "outputId": "9386b52c-de74-484c-9111-d1b151081cb2"
      },
      "execution_count": 4,
      "outputs": [
        {
          "output_type": "execute_result",
          "data": {
            "text/plain": [
              "SVR()"
            ]
          },
          "metadata": {},
          "execution_count": 4
        }
      ]
    },
    {
      "cell_type": "code",
      "source": [
        "sc_y.inverse_transform(regressor.predict(sc_X.transform([[131]])).reshape(-1,1))"
      ],
      "metadata": {
        "colab": {
          "base_uri": "https://localhost:8080/"
        },
        "id": "pZOspTob431l",
        "outputId": "bc00a98d-182f-4766-deb6-0a233450b1ca"
      },
      "execution_count": 9,
      "outputs": [
        {
          "output_type": "execute_result",
          "data": {
            "text/plain": [
              "array([[35455.7093871]])"
            ]
          },
          "metadata": {},
          "execution_count": 9
        }
      ]
    },
    {
      "cell_type": "code",
      "source": [
        "plt.scatter(sc_X.inverse_transform(X), sc_y.inverse_transform(y), color = 'red')\n",
        "plt.plot(sc_X.inverse_transform(X), sc_y.inverse_transform(regressor.predict(X)), color = 'blue')\n",
        "plt.title('Polynomial Regression')\n",
        "plt.xlabel('Squaremeter')\n",
        "plt.ylabel('Price')\n",
        "plt.show()"
      ],
      "metadata": {
        "colab": {
          "base_uri": "https://localhost:8080/",
          "height": 865
        },
        "id": "w2x6Flhk5wwo",
        "outputId": "70ad4aec-02a4-4482-f88e-295d3698fce7"
      },
      "execution_count": 12,
      "outputs": [
        {
          "output_type": "error",
          "ename": "ValueError",
          "evalue": "ignored",
          "traceback": [
            "\u001b[0;31m---------------------------------------------------------------------------\u001b[0m",
            "\u001b[0;31mValueError\u001b[0m                                Traceback (most recent call last)",
            "\u001b[0;32m<ipython-input-12-d3fd9e8338d5>\u001b[0m in \u001b[0;36m<module>\u001b[0;34m()\u001b[0m\n\u001b[1;32m      1\u001b[0m \u001b[0mplt\u001b[0m\u001b[0;34m.\u001b[0m\u001b[0mscatter\u001b[0m\u001b[0;34m(\u001b[0m\u001b[0msc_X\u001b[0m\u001b[0;34m.\u001b[0m\u001b[0minverse_transform\u001b[0m\u001b[0;34m(\u001b[0m\u001b[0mX\u001b[0m\u001b[0;34m)\u001b[0m\u001b[0;34m,\u001b[0m \u001b[0msc_y\u001b[0m\u001b[0;34m.\u001b[0m\u001b[0minverse_transform\u001b[0m\u001b[0;34m(\u001b[0m\u001b[0my\u001b[0m\u001b[0;34m)\u001b[0m\u001b[0;34m,\u001b[0m \u001b[0mcolor\u001b[0m \u001b[0;34m=\u001b[0m \u001b[0;34m'red'\u001b[0m\u001b[0;34m)\u001b[0m\u001b[0;34m\u001b[0m\u001b[0;34m\u001b[0m\u001b[0m\n\u001b[0;32m----> 2\u001b[0;31m \u001b[0mplt\u001b[0m\u001b[0;34m.\u001b[0m\u001b[0mplot\u001b[0m\u001b[0;34m(\u001b[0m\u001b[0msc_X\u001b[0m\u001b[0;34m.\u001b[0m\u001b[0minverse_transform\u001b[0m\u001b[0;34m(\u001b[0m\u001b[0mX\u001b[0m\u001b[0;34m)\u001b[0m\u001b[0;34m,\u001b[0m \u001b[0msc_y\u001b[0m\u001b[0;34m.\u001b[0m\u001b[0minverse_transform\u001b[0m\u001b[0;34m(\u001b[0m\u001b[0mregressor\u001b[0m\u001b[0;34m.\u001b[0m\u001b[0mpredict\u001b[0m\u001b[0;34m(\u001b[0m\u001b[0mX\u001b[0m\u001b[0;34m)\u001b[0m\u001b[0;34m)\u001b[0m\u001b[0;34m,\u001b[0m \u001b[0mcolor\u001b[0m \u001b[0;34m=\u001b[0m \u001b[0;34m'blue'\u001b[0m\u001b[0;34m)\u001b[0m\u001b[0;34m\u001b[0m\u001b[0;34m\u001b[0m\u001b[0m\n\u001b[0m\u001b[1;32m      3\u001b[0m \u001b[0mplt\u001b[0m\u001b[0;34m.\u001b[0m\u001b[0mtitle\u001b[0m\u001b[0;34m(\u001b[0m\u001b[0;34m'Polynomial Regression'\u001b[0m\u001b[0;34m)\u001b[0m\u001b[0;34m\u001b[0m\u001b[0;34m\u001b[0m\u001b[0m\n\u001b[1;32m      4\u001b[0m \u001b[0mplt\u001b[0m\u001b[0;34m.\u001b[0m\u001b[0mxlabel\u001b[0m\u001b[0;34m(\u001b[0m\u001b[0;34m'Squaremeter'\u001b[0m\u001b[0;34m)\u001b[0m\u001b[0;34m\u001b[0m\u001b[0;34m\u001b[0m\u001b[0m\n\u001b[1;32m      5\u001b[0m \u001b[0mplt\u001b[0m\u001b[0;34m.\u001b[0m\u001b[0mylabel\u001b[0m\u001b[0;34m(\u001b[0m\u001b[0;34m'Price'\u001b[0m\u001b[0;34m)\u001b[0m\u001b[0;34m\u001b[0m\u001b[0;34m\u001b[0m\u001b[0m\n",
            "\u001b[0;32m/usr/local/lib/python3.7/dist-packages/sklearn/preprocessing/_data.py\u001b[0m in \u001b[0;36minverse_transform\u001b[0;34m(self, X, copy)\u001b[0m\n\u001b[1;32m   1020\u001b[0m             \u001b[0mestimator\u001b[0m\u001b[0;34m=\u001b[0m\u001b[0mself\u001b[0m\u001b[0;34m,\u001b[0m\u001b[0;34m\u001b[0m\u001b[0;34m\u001b[0m\u001b[0m\n\u001b[1;32m   1021\u001b[0m             \u001b[0mdtype\u001b[0m\u001b[0;34m=\u001b[0m\u001b[0mFLOAT_DTYPES\u001b[0m\u001b[0;34m,\u001b[0m\u001b[0;34m\u001b[0m\u001b[0;34m\u001b[0m\u001b[0m\n\u001b[0;32m-> 1022\u001b[0;31m             \u001b[0mforce_all_finite\u001b[0m\u001b[0;34m=\u001b[0m\u001b[0;34m\"allow-nan\"\u001b[0m\u001b[0;34m,\u001b[0m\u001b[0;34m\u001b[0m\u001b[0;34m\u001b[0m\u001b[0m\n\u001b[0m\u001b[1;32m   1023\u001b[0m         )\n\u001b[1;32m   1024\u001b[0m \u001b[0;34m\u001b[0m\u001b[0m\n",
            "\u001b[0;32m/usr/local/lib/python3.7/dist-packages/sklearn/utils/validation.py\u001b[0m in \u001b[0;36mcheck_array\u001b[0;34m(array, accept_sparse, accept_large_sparse, dtype, order, copy, force_all_finite, ensure_2d, allow_nd, ensure_min_samples, ensure_min_features, estimator)\u001b[0m\n\u001b[1;32m    771\u001b[0m                     \u001b[0;34m\"Reshape your data either using array.reshape(-1, 1) if \"\u001b[0m\u001b[0;34m\u001b[0m\u001b[0;34m\u001b[0m\u001b[0m\n\u001b[1;32m    772\u001b[0m                     \u001b[0;34m\"your data has a single feature or array.reshape(1, -1) \"\u001b[0m\u001b[0;34m\u001b[0m\u001b[0;34m\u001b[0m\u001b[0m\n\u001b[0;32m--> 773\u001b[0;31m                     \u001b[0;34m\"if it contains a single sample.\"\u001b[0m\u001b[0;34m.\u001b[0m\u001b[0mformat\u001b[0m\u001b[0;34m(\u001b[0m\u001b[0marray\u001b[0m\u001b[0;34m)\u001b[0m\u001b[0;34m\u001b[0m\u001b[0;34m\u001b[0m\u001b[0m\n\u001b[0m\u001b[1;32m    774\u001b[0m                 )\n\u001b[1;32m    775\u001b[0m \u001b[0;34m\u001b[0m\u001b[0m\n",
            "\u001b[0;31mValueError\u001b[0m: Expected 2D array, got 1D array instead:\narray=[304.89742068 304.88709693 304.78557321 304.95794863 305.00177991\n 304.99697506 305.00656855 305.07647449 304.94304211 304.99215397\n 304.85571526 304.89742068 305.06736021 304.83979152 304.89742068\n 305.01134101 304.97270648 304.89742068 304.79655839 304.90767656\n 305.03496176 304.77451652 304.97759289 304.9873166  304.88709693\n 304.93804007 304.9229338  304.74655943 305.04894212 304.99697506\n 304.93804007 305.02083753 305.17263226 304.94802753 304.94802753\n 304.876705   304.92798595 304.96780366 304.89226731 305.04429794\n 304.86624455 304.80202429 304.97270648 304.94802753 304.8504247\n 304.68344137 304.99215397 305.00656855 305.11230529 304.80202429].\nReshape your data either using array.reshape(-1, 1) if your data has a single feature or array.reshape(1, -1) if it contains a single sample."
          ]
        },
        {
          "output_type": "display_data",
          "data": {
            "text/plain": [
              "<Figure size 432x288 with 1 Axes>"
            ],
            "image/png": "[encoded data removed]"
          },
          "metadata": {
            "needs_background": "light"
          }
        }
      ]
    },
    {
      "cell_type": "code",
      "source": [
        "X_grid = np.arange(min(sc_X.inverse_transform(X)), max(sc_X.inverse_transform(X)), 0.1)\n",
        "X_grid = X_grid.reshape((len(X_grid), 1))\n",
        "plt.scatter(sc_X.inverse_transform(X), sc_y.inverse_transform(y), color = 'red')\n",
        "plt.plot(X_grid, sc_y.inverse_transform(regressor.predict(sc_X.transform(X_grid))), color = 'blue')\n",
        "plt.title('Polynomial Regression')\n",
        "plt.xlabel('Squaremeter')\n",
        "plt.ylabel('Price')\n",
        "plt.show()"
      ],
      "metadata": {
        "colab": {
          "base_uri": "https://localhost:8080/",
          "height": 1000
        },
        "id": "Ebp4X-2n6E2C",
        "outputId": "b3a23518-17d0-4cce-8acf-21ac7aec23f0"
      },
      "execution_count": 13,
      "outputs": [
        {
          "output_type": "error",
          "ename": "ValueError",
          "evalue": "ignored",
          "traceback": [
            "\u001b[0;31m---------------------------------------------------------------------------\u001b[0m",
            "\u001b[0;31mValueError\u001b[0m                                Traceback (most recent call last)",
            "\u001b[0;32m<ipython-input-13-7de7b4d62cca>\u001b[0m in \u001b[0;36m<module>\u001b[0;34m()\u001b[0m\n\u001b[1;32m      2\u001b[0m \u001b[0mX_grid\u001b[0m \u001b[0;34m=\u001b[0m \u001b[0mX_grid\u001b[0m\u001b[0;34m.\u001b[0m\u001b[0mreshape\u001b[0m\u001b[0;34m(\u001b[0m\u001b[0;34m(\u001b[0m\u001b[0mlen\u001b[0m\u001b[0;34m(\u001b[0m\u001b[0mX_grid\u001b[0m\u001b[0;34m)\u001b[0m\u001b[0;34m,\u001b[0m \u001b[0;36m1\u001b[0m\u001b[0;34m)\u001b[0m\u001b[0;34m)\u001b[0m\u001b[0;34m\u001b[0m\u001b[0;34m\u001b[0m\u001b[0m\n\u001b[1;32m      3\u001b[0m \u001b[0mplt\u001b[0m\u001b[0;34m.\u001b[0m\u001b[0mscatter\u001b[0m\u001b[0;34m(\u001b[0m\u001b[0msc_X\u001b[0m\u001b[0;34m.\u001b[0m\u001b[0minverse_transform\u001b[0m\u001b[0;34m(\u001b[0m\u001b[0mX\u001b[0m\u001b[0;34m)\u001b[0m\u001b[0;34m,\u001b[0m \u001b[0msc_y\u001b[0m\u001b[0;34m.\u001b[0m\u001b[0minverse_transform\u001b[0m\u001b[0;34m(\u001b[0m\u001b[0my\u001b[0m\u001b[0;34m)\u001b[0m\u001b[0;34m,\u001b[0m \u001b[0mcolor\u001b[0m \u001b[0;34m=\u001b[0m \u001b[0;34m'red'\u001b[0m\u001b[0;34m)\u001b[0m\u001b[0;34m\u001b[0m\u001b[0;34m\u001b[0m\u001b[0m\n\u001b[0;32m----> 4\u001b[0;31m \u001b[0mplt\u001b[0m\u001b[0;34m.\u001b[0m\u001b[0mplot\u001b[0m\u001b[0;34m(\u001b[0m\u001b[0mX_grid\u001b[0m\u001b[0;34m,\u001b[0m \u001b[0msc_y\u001b[0m\u001b[0;34m.\u001b[0m\u001b[0minverse_transform\u001b[0m\u001b[0;34m(\u001b[0m\u001b[0mregressor\u001b[0m\u001b[0;34m.\u001b[0m\u001b[0mpredict\u001b[0m\u001b[0;34m(\u001b[0m\u001b[0msc_X\u001b[0m\u001b[0;34m.\u001b[0m\u001b[0mtransform\u001b[0m\u001b[0;34m(\u001b[0m\u001b[0mX_grid\u001b[0m\u001b[0;34m)\u001b[0m\u001b[0;34m)\u001b[0m\u001b[0;34m)\u001b[0m\u001b[0;34m,\u001b[0m \u001b[0mcolor\u001b[0m \u001b[0;34m=\u001b[0m \u001b[0;34m'blue'\u001b[0m\u001b[0;34m)\u001b[0m\u001b[0;34m\u001b[0m\u001b[0;34m\u001b[0m\u001b[0m\n\u001b[0m\u001b[1;32m      5\u001b[0m \u001b[0mplt\u001b[0m\u001b[0;34m.\u001b[0m\u001b[0mtitle\u001b[0m\u001b[0;34m(\u001b[0m\u001b[0;34m'Polynomial Regression'\u001b[0m\u001b[0;34m)\u001b[0m\u001b[0;34m\u001b[0m\u001b[0;34m\u001b[0m\u001b[0m\n\u001b[1;32m      6\u001b[0m \u001b[0mplt\u001b[0m\u001b[0;34m.\u001b[0m\u001b[0mxlabel\u001b[0m\u001b[0;34m(\u001b[0m\u001b[0;34m'Squaremeter'\u001b[0m\u001b[0;34m)\u001b[0m\u001b[0;34m\u001b[0m\u001b[0;34m\u001b[0m\u001b[0m\n",
            "\u001b[0;32m/usr/local/lib/python3.7/dist-packages/sklearn/preprocessing/_data.py\u001b[0m in \u001b[0;36minverse_transform\u001b[0;34m(self, X, copy)\u001b[0m\n\u001b[1;32m   1020\u001b[0m             \u001b[0mestimator\u001b[0m\u001b[0;34m=\u001b[0m\u001b[0mself\u001b[0m\u001b[0;34m,\u001b[0m\u001b[0;34m\u001b[0m\u001b[0;34m\u001b[0m\u001b[0m\n\u001b[1;32m   1021\u001b[0m             \u001b[0mdtype\u001b[0m\u001b[0;34m=\u001b[0m\u001b[0mFLOAT_DTYPES\u001b[0m\u001b[0;34m,\u001b[0m\u001b[0;34m\u001b[0m\u001b[0;34m\u001b[0m\u001b[0m\n\u001b[0;32m-> 1022\u001b[0;31m             \u001b[0mforce_all_finite\u001b[0m\u001b[0;34m=\u001b[0m\u001b[0;34m\"allow-nan\"\u001b[0m\u001b[0;34m,\u001b[0m\u001b[0;34m\u001b[0m\u001b[0;34m\u001b[0m\u001b[0m\n\u001b[0m\u001b[1;32m   1023\u001b[0m         )\n\u001b[1;32m   1024\u001b[0m \u001b[0;34m\u001b[0m\u001b[0m\n",
            "\u001b[0;32m/usr/local/lib/python3.7/dist-packages/sklearn/utils/validation.py\u001b[0m in \u001b[0;36mcheck_array\u001b[0;34m(array, accept_sparse, accept_large_sparse, dtype, order, copy, force_all_finite, ensure_2d, allow_nd, ensure_min_samples, ensure_min_features, estimator)\u001b[0m\n\u001b[1;32m    771\u001b[0m                     \u001b[0;34m\"Reshape your data either using array.reshape(-1, 1) if \"\u001b[0m\u001b[0;34m\u001b[0m\u001b[0;34m\u001b[0m\u001b[0m\n\u001b[1;32m    772\u001b[0m                     \u001b[0;34m\"your data has a single feature or array.reshape(1, -1) \"\u001b[0m\u001b[0;34m\u001b[0m\u001b[0;34m\u001b[0m\u001b[0m\n\u001b[0;32m--> 773\u001b[0;31m                     \u001b[0;34m\"if it contains a single sample.\"\u001b[0m\u001b[0;34m.\u001b[0m\u001b[0mformat\u001b[0m\u001b[0;34m(\u001b[0m\u001b[0marray\u001b[0m\u001b[0;34m)\u001b[0m\u001b[0;34m\u001b[0m\u001b[0;34m\u001b[0m\u001b[0m\n\u001b[0m\u001b[1;32m    774\u001b[0m                 )\n\u001b[1;32m    775\u001b[0m \u001b[0;34m\u001b[0m\u001b[0m\n",
            "\u001b[0;31mValueError\u001b[0m: Expected 2D array, got 1D array instead:\narray=[305.17263226 305.17221195 305.17179148 305.17137086 305.17095009\n 305.17052917 305.1701081  305.16968687 305.1692655  305.16884397\n 305.1684223  305.16800047 305.16757849 305.16715635 305.16673407\n 305.16631163 305.16588905 305.16546631 305.16504342 305.16462038\n 305.16419718 305.16377384 305.16335034 305.16292669 305.16250289\n 305.16207894 305.16165484 305.16123058 305.16080618 305.16038162\n 305.15995691 305.15953204 305.15910703 305.15868186 305.15825654\n 305.15783107 305.15740545 305.15697967 305.15655375 305.15612767\n 305.15570144 305.15527505 305.15484852 305.15442183 305.15399499\n 305.15356799 305.15314085 305.15271355 305.1522861  305.1518585\n 305.15143074 305.15100284 305.15057478 305.15014657 305.1497182\n 305.14928968 305.14886101 305.14843219 305.14800322 305.14757409\n 305.14714481 305.14671538 305.14628579 305.14585605 305.14542616\n 305.14499612 305.14456592 305.14413557 305.14370507 305.14327441\n 305.1428436  305.14241264 305.14198152 305.14155026 305.14111884\n 305.14068726 305.14025553 305.13982365 305.13939162 305.13895943\n 305.13852709 305.1380946  305.13766196 305.13722916 305.1367962\n 305.1363631  305.13592984 305.13549642 305.13506286 305.13462914\n 305.13419526 305.13376124 305.13332706 305.13289272 305.13245823\n 305.13202359 305.1315888  305.13115385 305.13071875 305.13028349\n 305.12984808 305.12941252 305.1289768  305.12854093 305.1281049\n 305.12766872 305.12723239 305.1267959  305.12635926 305.12592247\n 305.12548552 305.12504842 305.12461116 305.12417375 305.12373618\n 305.12329846 305.12286059 305.12242256 305.12198438 305.12154604\n 305.12110755 305.12066891 305.12023011 305.11979115 305.11935205\n 305.11891278 305.11847337 305.11803379 305.11759407 305.11715419\n 305.11671415 305.11627396 305.11583362 305.11539312 305.11495247\n 305.11451166 305.11407069 305.11362958 305.1131883  305.11274688\n 305.11230529 305.11186356 305.11142166 305.11097962 305.11053741\n 305.11009506 305.10965254 305.10920988 305.10876705 305.10832408\n 305.10788094 305.10743766 305.10699421 305.10655062 305.10610686\n 305.10566295 305.10521889 305.10477467 305.1043303  305.10388577\n 305.10344108 305.10299624 305.10255124 305.10210609 305.10166078\n 305.10121532 305.1007697  305.10032393 305.099878   305.09943191\n 305.09898567 305.09853928 305.09809272 305.09764602 305.09719915\n 305.09675213 305.09630496 305.09585762 305.09541014 305.09496249\n 305.09451469 305.09406674 305.09361863 305.09317036 305.09272193\n 305.09227335 305.09182462 305.09137573 305.09092668 305.09047747\n 305.09002811 305.0895786  305.08912892 305.08867909 305.08822911\n 305.08777896 305.08732867 305.08687821 305.0864276  305.08597683\n 305.0855259  305.08507482 305.08462359 305.08417219 305.08372064\n 305.08326893 305.08281707 305.08236504 305.08191287 305.08146053\n 305.08100804 305.08055539 305.08010258 305.07964962 305.0791965\n 305.07874323 305.07828979 305.0778362  305.07738245 305.07692855\n 305.07647449 305.07602027 305.07556589 305.07511136 305.07465667\n 305.07420182 305.07374681 305.07329165 305.07283633 305.07238085\n 305.07192522 305.07146943 305.07101348 305.07055737 305.07010111\n 305.06964468 305.0691881  305.06873137 305.06827447 305.06781742\n 305.06736021 305.06690284 305.06644531 305.06598763 305.06552979\n 305.06507179 305.06461363 305.06415531 305.06369684 305.06323821\n 305.06277942 305.06232047 305.06186137 305.0614021  305.06094268\n 305.0604831  305.06002336 305.05956347 305.05910341 305.0586432\n 305.05818283 305.0577223  305.05726161 305.05680077 305.05633976\n 305.0558786  305.05541728 305.0549558  305.05449416 305.05403236\n 305.05357041 305.05310829 305.05264602 305.05218359 305.051721\n 305.05125825 305.05079534 305.05033227 305.04986905 305.04940566\n 305.04894212 305.04847842 305.04801455 305.04755053 305.04708635\n 305.04662202 305.04615752 305.04569286 305.04522804 305.04476307\n 305.04429794 305.04383264 305.04336719 305.04290158 305.0424358\n 305.04196987 305.04150378 305.04103753 305.04057112 305.04010456\n 305.03963783 305.03917094 305.03870389 305.03823669 305.03776932\n 305.03730179 305.03683411 305.03636626 305.03589825 305.03543009\n 305.03496176 305.03449328 305.03402463 305.03355583 305.03308686\n 305.03261774 305.03214845 305.03167901 305.0312094  305.03073964\n 305.03026971 305.02979963 305.02932938 305.02885898 305.02838841\n 305.02791768 305.0274468  305.02697575 305.02650454 305.02603317\n 305.02556164 305.02508996 305.02461811 305.0241461  305.02367392\n 305.02320159 305.0227291  305.02225645 305.02178363 305.02131066\n 305.02083753 305.02036423 305.01989077 305.01941716 305.01894338\n 305.01846944 305.01799534 305.01752108 305.01704665 305.01657207\n 305.01609733 305.01562242 305.01514735 305.01467212 305.01419674\n 305.01372118 305.01324547 305.0127696  305.01229356 305.01181737\n 305.01134101 305.01086449 305.01038781 305.00991097 305.00943397\n 305.0089568  305.00847948 305.00800199 305.00752434 305.00704653\n 305.00656855 305.00609042 305.00561212 305.00513366 305.00465504\n 305.00417626 305.00369731 305.00321821 305.00273894 305.00225951\n 305.00177991 305.00130016 305.00082024 305.00034016 304.99985992\n 304.99937952 304.99889895 304.99841822 304.99793733 304.99745628\n 304.99697506 304.99649369 304.99601215 304.99553044 304.99504858\n 304.99456655 304.99408436 304.99360201 304.99311949 304.99263681\n 304.99215397 304.99167097 304.9911878  304.99070447 304.99022098\n 304.98973732 304.9892535  304.98876952 304.98828538 304.98780107\n 304.9873166  304.98683196 304.98634717 304.98586221 304.98537708\n 304.9848918  304.98440635 304.98392073 304.98343496 304.98294902\n 304.98246291 304.98197665 304.98149022 304.98100362 304.98051687\n 304.98002995 304.97954286 304.97905561 304.9785682  304.97808062\n 304.97759289 304.97710498 304.97661692 304.97612868 304.97564029\n 304.97515173 304.97466301 304.97417412 304.97368507 304.97319586\n 304.97270648 304.97221693 304.97172723 304.97123736 304.97074732\n 304.97025712 304.96976676 304.96927623 304.96878553 304.96829468\n 304.96780366 304.96731247 304.96682112 304.9663296  304.96583792\n 304.96534608 304.96485407 304.9643619  304.96386956 304.96337705\n 304.96288439 304.96239155 304.96189855 304.96140539 304.96091206\n 304.96041857 304.95992491 304.95943109 304.9589371  304.95844295\n 304.95794863 304.95745415 304.9569595  304.95646468 304.95596971\n 304.95547456 304.95497925 304.95448378 304.95398814 304.95349233\n 304.95299636 304.95250022 304.95200392 304.95150745 304.95101081\n 304.95051401 304.95001705 304.94951992 304.94902262 304.94852516\n 304.94802753 304.94752973 304.94703177 304.94653365 304.94603535\n 304.9455369  304.94503827 304.94453948 304.94404052 304.9435414\n 304.94304211 304.94254266 304.94204303 304.94154324 304.94104329\n 304.94054317 304.94004288 304.93954243 304.93904181 304.93854102\n 304.93804007 304.93753894 304.93703766 304.9365362  304.93603458\n 304.9355328  304.93503084 304.93452872 304.93402643 304.93352398\n 304.93302136 304.93251857 304.93201561 304.93151249 304.9310092\n 304.93050574 304.93000212 304.92949833 304.92899437 304.92849024\n 304.92798595 304.92748149 304.92697686 304.92647206 304.9259671\n 304.92546197 304.92495667 304.9244512  304.92394557 304.92343977\n 304.9229338  304.92242766 304.92192136 304.92141489 304.92090825\n 304.92040144 304.91989446 304.91938732 304.91888001 304.91837253\n 304.91786488 304.91735706 304.91684908 304.91634093 304.91583261\n 304.91532412 304.91481546 304.91430663 304.91379764 304.91328848\n 304.91277914 304.91226965 304.91175998 304.91125014 304.91074014\n 304.91022996 304.90971962 304.90920911 304.90869843 304.90818758\n 304.90767656 304.90716537 304.90665402 304.90614249 304.9056308\n 304.90511894 304.9046069  304.9040947  304.90358233 304.90306979\n 304.90255708 304.90204421 304.90153116 304.90101794 304.90050456\n 304.899991   304.89947728 304.89896338 304.89844932 304.89793509\n 304.89742068 304.89690611 304.89639137 304.89587645 304.89536137\n 304.89484612 304.8943307  304.89381511 304.89329934 304.89278341\n 304.89226731 304.89175104 304.8912346  304.89071799 304.8902012\n 304.88968425 304.88916713 304.88864984 304.88813237 304.88761474\n 304.88709693 304.88657896 304.88606081 304.8855425  304.88502401\n 304.88450536 304.88398653 304.88346753 304.88294836 304.88242902\n 304.88190951 304.88138983 304.88086998 304.88034995 304.87982976\n 304.87930939 304.87878886 304.87826815 304.87774727 304.87722622\n 304.876705   304.87618361 304.87566204 304.87514031 304.8746184\n 304.87409632 304.87357407 304.87305165 304.87252906 304.87200629\n 304.87148336 304.87096025 304.87043697 304.86991352 304.8693899\n 304.8688661  304.86834214 304.867818   304.86729369 304.86676921\n 304.86624455 304.86571972 304.86519473 304.86466955 304.86414421\n 304.8636187  304.86309301 304.86256715 304.86204112 304.86151491\n 304.86098853 304.86046198 304.85993526 304.85940837 304.8588813\n 304.85835406 304.85782664 304.85729906 304.8567713  304.85624337\n 304.85571526 304.85518699 304.85465854 304.85412991 304.85360112\n 304.85307215 304.852543   304.85201369 304.8514842  304.85095454\n 304.8504247  304.84989469 304.84936451 304.84883415 304.84830362\n 304.84777292 304.84724204 304.84671099 304.84617977 304.84564837\n 304.8451168  304.84458506 304.84405314 304.84352105 304.84298878\n 304.84245634 304.84192372 304.84139094 304.84085797 304.84032484\n 304.83979152 304.83925804 304.83872438 304.83819055 304.83765654\n 304.83712235 304.836588   304.83605347 304.83551876 304.83498388\n 304.83444882 304.83391359 304.83337819 304.83284261 304.83230686\n 304.83177093 304.83123482 304.83069854 304.83016209 304.82962546\n 304.82908866 304.82855168 304.82801453 304.8274772  304.82693969\n 304.82640201 304.82586416 304.82532613 304.82478792 304.82424954\n 304.82371098 304.82317225 304.82263334 304.82209426 304.821555\n 304.82101557 304.82047596 304.81993617 304.81939621 304.81885607\n 304.81831575 304.81777526 304.8172346  304.81669376 304.81615274\n 304.81561154 304.81507017 304.81452862 304.8139869  304.813445\n 304.81290293 304.81236067 304.81181824 304.81127564 304.81073286\n 304.8101899  304.80964676 304.80910345 304.80855996 304.8080163\n 304.80747245 304.80692843 304.80638424 304.80583986 304.80529531\n 304.80475059 304.80420568 304.8036606  304.80311534 304.80256991\n 304.80202429 304.8014785  304.80093253 304.80038639 304.79984006\n 304.79929356 304.79874689 304.79820003 304.797653   304.79710578\n 304.79655839 304.79601083 304.79546308 304.79491516 304.79436706\n 304.79381878 304.79327032 304.79272169 304.79217288 304.79162389\n 304.79107472 304.79052537 304.78997584 304.78942614 304.78887625\n 304.78832619 304.78777595 304.78722554 304.78667494 304.78612416\n 304.78557321 304.78502207 304.78447076 304.78391927 304.7833676\n 304.78281575 304.78226373 304.78171152 304.78115913 304.78060657\n 304.78005382 304.7795009  304.7789478  304.77839452 304.77784105\n 304.77728741 304.77673359 304.77617959 304.77562541 304.77507106\n 304.77451652 304.7739618  304.7734069  304.77285182 304.77229656\n 304.77174113 304.77118551 304.77062971 304.77007373 304.76951758\n 304.76896124 304.76840472 304.76784802 304.76729114 304.76673408\n 304.76617684 304.76561942 304.76506182 304.76450404 304.76394608\n 304.76338794 304.76282962 304.76227111 304.76171243 304.76115356\n 304.76059452 304.76003529 304.75947588 304.75891629 304.75835652\n 304.75779657 304.75723644 304.75667612 304.75611563 304.75555495\n 304.75499409 304.75443305 304.75387183 304.75331043 304.75274885\n 304.75218708 304.75162513 304.75106301 304.7505007  304.7499382\n 304.74937553 304.74881267 304.74824963 304.74768641 304.74712301\n 304.74655943 304.74599566 304.74543171 304.74486758 304.74430327\n 304.74373877 304.74317409 304.74260923 304.74204419 304.74147896\n 304.74091355 304.74034796 304.73978219 304.73921623 304.73865009\n 304.73808377 304.73751726 304.73695057 304.7363837  304.73581665\n 304.73524941 304.73468199 304.73411438 304.73354659 304.73297862\n 304.73241047 304.73184213 304.73127361 304.7307049  304.73013601\n 304.72956694 304.72899769 304.72842825 304.72785862 304.72728881\n 304.72671882 304.72614865 304.72557829 304.72500774 304.72443702\n 304.7238661  304.72329501 304.72272373 304.72215226 304.72158061\n 304.72100878 304.72043676 304.71986456 304.71929217 304.7187196\n 304.71814684 304.7175739  304.71700077 304.71642746 304.71585397\n 304.71528029 304.71470642 304.71413237 304.71355813 304.71298371\n 304.7124091  304.71183431 304.71125933 304.71068417 304.71010882\n 304.70953329 304.70895757 304.70838166 304.70780557 304.7072293\n 304.70665283 304.70607619 304.70549935 304.70492233 304.70434513\n 304.70376773 304.70319015 304.70261239 304.70203444 304.7014563\n 304.70087798 304.70029947 304.69972077 304.69914189 304.69856282\n 304.69798357 304.69740413 304.6968245  304.69624468 304.69566468\n 304.69508449 304.69450411 304.69392355 304.6933428  304.69276186\n 304.69218074 304.69159943 304.69101793 304.69043624 304.68985437\n 304.68927231 304.68869006 304.68810762 304.687525   304.68694219\n 304.68635919 304.685776   304.68519263 304.68460906 304.68402531].\nReshape your data either using array.reshape(-1, 1) if your data has a single feature or array.reshape(1, -1) if it contains a single sample."
          ]
        },
        {
          "output_type": "display_data",
          "data": {
            "text/plain": [
              "<Figure size 432x288 with 1 Axes>"
            ],
            "image/png": "[encoded data removed]"
          },
          "metadata": {
            "needs_background": "light"
          }
        }
      ]
    }
  ]
}